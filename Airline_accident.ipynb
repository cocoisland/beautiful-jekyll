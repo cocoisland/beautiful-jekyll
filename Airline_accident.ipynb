{
  "nbformat": 4,
  "nbformat_minor": 0,
  "metadata": {
    "colab": {
      "name": "Airline_accident.ipynb",
      "version": "0.3.2",
      "provenance": [],
      "collapsed_sections": [],
      "include_colab_link": true
    },
    "kernelspec": {
      "name": "python3",
      "display_name": "Python 3"
    }
  },
  "cells": [
    {
      "cell_type": "markdown",
      "metadata": {
        "id": "view-in-github",
        "colab_type": "text"
      },
      "source": [
        "<a href=\"https://colab.research.google.com/github/cocoisland/cocoisland.github.io/blob/master/Airline_accident.ipynb\" target=\"_parent\"><img src=\"https://colab.research.google.com/assets/colab-badge.svg\" alt=\"Open In Colab\"/></a>"
      ]
    },
    {
      "metadata": {
        "id": "irFi3sK4GfLO",
        "colab_type": "text"
      },
      "cell_type": "markdown",
      "source": [
        "### Evaluating Airline Travel Safety"
      ]
    },
    {
      "metadata": {
        "id": "7GTHnCFdJMmW",
        "colab_type": "code",
        "outputId": "99743bfb-b224-43f4-b38d-508e22154699",
        "colab": {
          "base_uri": "https://localhost:8080/",
          "height": 302
        }
      },
      "cell_type": "code",
      "source": [
        "!pip install --upgrade seaborn"
      ],
      "execution_count": 3,
      "outputs": [
        {
          "output_type": "stream",
          "text": [
            "Collecting seaborn\n",
            "\u001b[?25l  Downloading https://files.pythonhosted.org/packages/a8/76/220ba4420459d9c4c9c9587c6ce607bf56c25b3d3d2de62056efe482dadc/seaborn-0.9.0-py3-none-any.whl (208kB)\n",
            "\u001b[K    100% |████████████████████████████████| 215kB 25.1MB/s \n",
            "\u001b[?25hRequirement already satisfied, skipping upgrade: matplotlib>=1.4.3 in /usr/local/lib/python3.6/dist-packages (from seaborn) (2.1.2)\n",
            "Requirement already satisfied, skipping upgrade: scipy>=0.14.0 in /usr/local/lib/python3.6/dist-packages (from seaborn) (1.1.0)\n",
            "Requirement already satisfied, skipping upgrade: pandas>=0.15.2 in /usr/local/lib/python3.6/dist-packages (from seaborn) (0.22.0)\n",
            "Requirement already satisfied, skipping upgrade: numpy>=1.9.3 in /usr/local/lib/python3.6/dist-packages (from seaborn) (1.14.6)\n",
            "Requirement already satisfied, skipping upgrade: pytz in /usr/local/lib/python3.6/dist-packages (from matplotlib>=1.4.3->seaborn) (2018.7)\n",
            "Requirement already satisfied, skipping upgrade: pyparsing!=2.0.4,!=2.1.2,!=2.1.6,>=2.0.1 in /usr/local/lib/python3.6/dist-packages (from matplotlib>=1.4.3->seaborn) (2.3.0)\n",
            "Requirement already satisfied, skipping upgrade: six>=1.10 in /usr/local/lib/python3.6/dist-packages (from matplotlib>=1.4.3->seaborn) (1.11.0)\n",
            "Requirement already satisfied, skipping upgrade: cycler>=0.10 in /usr/local/lib/python3.6/dist-packages (from matplotlib>=1.4.3->seaborn) (0.10.0)\n",
            "Requirement already satisfied, skipping upgrade: python-dateutil>=2.1 in /usr/local/lib/python3.6/dist-packages (from matplotlib>=1.4.3->seaborn) (2.5.3)\n",
            "Installing collected packages: seaborn\n",
            "  Found existing installation: seaborn 0.7.1\n",
            "    Uninstalling seaborn-0.7.1:\n",
            "      Successfully uninstalled seaborn-0.7.1\n",
            "Successfully installed seaborn-0.9.0\n"
          ],
          "name": "stdout"
        }
      ]
    },
    {
      "metadata": {
        "id": "5Dl2UTVgJiPY",
        "colab_type": "code",
        "outputId": "460501d1-be71-45d7-d44b-6e4ee71d949c",
        "colab": {
          "base_uri": "https://localhost:8080/",
          "height": 34
        }
      },
      "cell_type": "code",
      "source": [
        "import matplotlib.pyplot as plt\n",
        "import seaborn as sns\n",
        "%matplotlib inline\n",
        "\n",
        "sns.__version__\n",
        "\n"
      ],
      "execution_count": 1,
      "outputs": [
        {
          "output_type": "execute_result",
          "data": {
            "text/plain": [
              "'0.9.0'"
            ]
          },
          "metadata": {
            "tags": []
          },
          "execution_count": 1
        }
      ]
    },
    {
      "metadata": {
        "id": "hyrt_-0ME5np",
        "colab_type": "code",
        "outputId": "dff5f1cf-8617-4740-bd2c-7597df21c259",
        "colab": {
          "base_uri": "https://localhost:8080/",
          "height": 373
        }
      },
      "cell_type": "code",
      "source": [
        "import pandas as pd\n",
        "\n",
        "url = 'https://raw.githubusercontent.com/fivethirtyeight/data/master/airline-safety/airline-safety.csv'\n",
        "\n",
        "df = pd.read_csv(url)\n",
        "\n",
        "'''\n",
        "describe shows clean data.\n",
        "  Object feature - airline, all unique object, freq 1\n",
        "  All numerical features - no '?' or character in unique or top observation.\n",
        "\n",
        "'''\n",
        "df.describe(include='all')"
      ],
      "execution_count": 2,
      "outputs": [
        {
          "output_type": "execute_result",
          "data": {
            "text/html": [
              "<div>\n",
              "<style scoped>\n",
              "    .dataframe tbody tr th:only-of-type {\n",
              "        vertical-align: middle;\n",
              "    }\n",
              "\n",
              "    .dataframe tbody tr th {\n",
              "        vertical-align: top;\n",
              "    }\n",
              "\n",
              "    .dataframe thead th {\n",
              "        text-align: right;\n",
              "    }\n",
              "</style>\n",
              "<table border=\"1\" class=\"dataframe\">\n",
              "  <thead>\n",
              "    <tr style=\"text-align: right;\">\n",
              "      <th></th>\n",
              "      <th>airline</th>\n",
              "      <th>avail_seat_km_per_week</th>\n",
              "      <th>incidents_85_99</th>\n",
              "      <th>fatal_accidents_85_99</th>\n",
              "      <th>fatalities_85_99</th>\n",
              "      <th>incidents_00_14</th>\n",
              "      <th>fatal_accidents_00_14</th>\n",
              "      <th>fatalities_00_14</th>\n",
              "    </tr>\n",
              "  </thead>\n",
              "  <tbody>\n",
              "    <tr>\n",
              "      <th>count</th>\n",
              "      <td>56</td>\n",
              "      <td>5.600000e+01</td>\n",
              "      <td>56.000000</td>\n",
              "      <td>56.000000</td>\n",
              "      <td>56.000000</td>\n",
              "      <td>56.000000</td>\n",
              "      <td>56.000000</td>\n",
              "      <td>56.000000</td>\n",
              "    </tr>\n",
              "    <tr>\n",
              "      <th>unique</th>\n",
              "      <td>56</td>\n",
              "      <td>NaN</td>\n",
              "      <td>NaN</td>\n",
              "      <td>NaN</td>\n",
              "      <td>NaN</td>\n",
              "      <td>NaN</td>\n",
              "      <td>NaN</td>\n",
              "      <td>NaN</td>\n",
              "    </tr>\n",
              "    <tr>\n",
              "      <th>top</th>\n",
              "      <td>Ethiopian Airlines</td>\n",
              "      <td>NaN</td>\n",
              "      <td>NaN</td>\n",
              "      <td>NaN</td>\n",
              "      <td>NaN</td>\n",
              "      <td>NaN</td>\n",
              "      <td>NaN</td>\n",
              "      <td>NaN</td>\n",
              "    </tr>\n",
              "    <tr>\n",
              "      <th>freq</th>\n",
              "      <td>1</td>\n",
              "      <td>NaN</td>\n",
              "      <td>NaN</td>\n",
              "      <td>NaN</td>\n",
              "      <td>NaN</td>\n",
              "      <td>NaN</td>\n",
              "      <td>NaN</td>\n",
              "      <td>NaN</td>\n",
              "    </tr>\n",
              "    <tr>\n",
              "      <th>mean</th>\n",
              "      <td>NaN</td>\n",
              "      <td>1.384621e+09</td>\n",
              "      <td>7.178571</td>\n",
              "      <td>2.178571</td>\n",
              "      <td>112.410714</td>\n",
              "      <td>4.125000</td>\n",
              "      <td>0.660714</td>\n",
              "      <td>55.517857</td>\n",
              "    </tr>\n",
              "    <tr>\n",
              "      <th>std</th>\n",
              "      <td>NaN</td>\n",
              "      <td>1.465317e+09</td>\n",
              "      <td>11.035656</td>\n",
              "      <td>2.861069</td>\n",
              "      <td>146.691114</td>\n",
              "      <td>4.544977</td>\n",
              "      <td>0.858684</td>\n",
              "      <td>111.332751</td>\n",
              "    </tr>\n",
              "    <tr>\n",
              "      <th>min</th>\n",
              "      <td>NaN</td>\n",
              "      <td>2.593733e+08</td>\n",
              "      <td>0.000000</td>\n",
              "      <td>0.000000</td>\n",
              "      <td>0.000000</td>\n",
              "      <td>0.000000</td>\n",
              "      <td>0.000000</td>\n",
              "      <td>0.000000</td>\n",
              "    </tr>\n",
              "    <tr>\n",
              "      <th>25%</th>\n",
              "      <td>NaN</td>\n",
              "      <td>4.740362e+08</td>\n",
              "      <td>2.000000</td>\n",
              "      <td>0.000000</td>\n",
              "      <td>0.000000</td>\n",
              "      <td>1.000000</td>\n",
              "      <td>0.000000</td>\n",
              "      <td>0.000000</td>\n",
              "    </tr>\n",
              "    <tr>\n",
              "      <th>50%</th>\n",
              "      <td>NaN</td>\n",
              "      <td>8.029089e+08</td>\n",
              "      <td>4.000000</td>\n",
              "      <td>1.000000</td>\n",
              "      <td>48.500000</td>\n",
              "      <td>3.000000</td>\n",
              "      <td>0.000000</td>\n",
              "      <td>0.000000</td>\n",
              "    </tr>\n",
              "    <tr>\n",
              "      <th>75%</th>\n",
              "      <td>NaN</td>\n",
              "      <td>1.847239e+09</td>\n",
              "      <td>8.000000</td>\n",
              "      <td>3.000000</td>\n",
              "      <td>184.250000</td>\n",
              "      <td>5.250000</td>\n",
              "      <td>1.000000</td>\n",
              "      <td>83.250000</td>\n",
              "    </tr>\n",
              "    <tr>\n",
              "      <th>max</th>\n",
              "      <td>NaN</td>\n",
              "      <td>7.139291e+09</td>\n",
              "      <td>76.000000</td>\n",
              "      <td>14.000000</td>\n",
              "      <td>535.000000</td>\n",
              "      <td>24.000000</td>\n",
              "      <td>3.000000</td>\n",
              "      <td>537.000000</td>\n",
              "    </tr>\n",
              "  </tbody>\n",
              "</table>\n",
              "</div>"
            ],
            "text/plain": [
              "                   airline  avail_seat_km_per_week  incidents_85_99  \\\n",
              "count                   56            5.600000e+01        56.000000   \n",
              "unique                  56                     NaN              NaN   \n",
              "top     Ethiopian Airlines                     NaN              NaN   \n",
              "freq                     1                     NaN              NaN   \n",
              "mean                   NaN            1.384621e+09         7.178571   \n",
              "std                    NaN            1.465317e+09        11.035656   \n",
              "min                    NaN            2.593733e+08         0.000000   \n",
              "25%                    NaN            4.740362e+08         2.000000   \n",
              "50%                    NaN            8.029089e+08         4.000000   \n",
              "75%                    NaN            1.847239e+09         8.000000   \n",
              "max                    NaN            7.139291e+09        76.000000   \n",
              "\n",
              "        fatal_accidents_85_99  fatalities_85_99  incidents_00_14  \\\n",
              "count               56.000000         56.000000        56.000000   \n",
              "unique                    NaN               NaN              NaN   \n",
              "top                       NaN               NaN              NaN   \n",
              "freq                      NaN               NaN              NaN   \n",
              "mean                 2.178571        112.410714         4.125000   \n",
              "std                  2.861069        146.691114         4.544977   \n",
              "min                  0.000000          0.000000         0.000000   \n",
              "25%                  0.000000          0.000000         1.000000   \n",
              "50%                  1.000000         48.500000         3.000000   \n",
              "75%                  3.000000        184.250000         5.250000   \n",
              "max                 14.000000        535.000000        24.000000   \n",
              "\n",
              "        fatal_accidents_00_14  fatalities_00_14  \n",
              "count               56.000000         56.000000  \n",
              "unique                    NaN               NaN  \n",
              "top                       NaN               NaN  \n",
              "freq                      NaN               NaN  \n",
              "mean                 0.660714         55.517857  \n",
              "std                  0.858684        111.332751  \n",
              "min                  0.000000          0.000000  \n",
              "25%                  0.000000          0.000000  \n",
              "50%                  0.000000          0.000000  \n",
              "75%                  1.000000         83.250000  \n",
              "max                  3.000000        537.000000  "
            ]
          },
          "metadata": {
            "tags": []
          },
          "execution_count": 2
        }
      ]
    },
    {
      "metadata": {
        "id": "929DjGZ5teel",
        "colab_type": "text"
      },
      "cell_type": "markdown",
      "source": [
        "## Can you avoid bad Airline ?\n",
        "Fear of flying is understandable because  air travelling, put you into an uncontrollable situation. When air plane accident crashes,  it goes into headline news. Headline news solidified people presumption of their belief. It becomes common sense to avoid airline with bad fatal accidents. \n",
        "\n",
        "### Strategy 1: Avoid airline with high fatalities accidents."
      ]
    },
    {
      "metadata": {
        "id": "TYsTPWhZmvM3",
        "colab_type": "code",
        "colab": {}
      },
      "cell_type": "code",
      "source": [
        "df_fatalities_99 = df.sort_values(['fatalities_85_99','fatal_accidents_85_99'], ascending=[False, False])\n",
        "df_fatalities_14 = df.sort_values(['fatalities_00_14','fatal_accidents_00_14'], ascending=[False, False])"
      ],
      "execution_count": 0,
      "outputs": []
    },
    {
      "metadata": {
        "id": "jYJiWNSCie1r",
        "colab_type": "code",
        "colab": {}
      },
      "cell_type": "code",
      "source": [
        "'''\n",
        "Airline with high fatalities accidents 85-99\n",
        "'''\n",
        "\n",
        "g = sns.relplot( x='fatal_accidents_85_99', y='fatalities_85_99', hue='airline', size='fatalities_85_99', data=df_fatalities_99)\n",
        "g.fig.set_size_inches(12,8)\n",
        "plt.text(0,600, s='Airlines with Headline Fatalities Crashes',\n",
        "        fontweight='bold', fontsize=14)\n",
        "plt.text(1, 580, s='between 1985-1999.',\n",
        "        fontweight='bold', fontsize=12)\n",
        "plt.annotate(xy=(6.5,535), s='China Airlines');\n",
        "plt.annotate(xy=(1.5,520), s='Japan Airlines');\n",
        "plt.annotate(xy=(5.5,425), s='Korean Air');           \n",
        "plt.annotate(xy=(12.5,407), s='Delta/Northwest')\n",
        "plt.annotate(xy=(1.5,329), s='Air India');"
      ],
      "execution_count": 0,
      "outputs": []
    },
    {
      "metadata": {
        "id": "DAYZSancrMhd",
        "colab_type": "code",
        "colab": {}
      },
      "cell_type": "code",
      "source": [
        "'''\n",
        "Airlines with high fatalities accidents 00-14\n",
        "'''\n",
        "\n",
        "g = sns.relplot( x='fatal_accidents_00_14', y='fatalities_00_14', hue='airline', size='fatalities_00_14', data=df_fatalities_14)\n",
        "g.fig.set_size_inches(12,8)\n",
        "plt.text(0,600, s='Airlines Fatality Crashes are rare and unhighly unpredictable',\n",
        "        fontweight='bold', fontsize=14)\n",
        "plt.text(1, 580, s='between 2000-2014.',\n",
        "        fontweight='bold', fontsize=12)\n",
        "plt.annotate(xy=(2.1,535), s='Malaysia Airlines');\n",
        "plt.annotate(xy=(3.1,416), s='American');\n",
        "plt.annotate(xy=(2.1,337), s='Air France');           \n",
        "plt.annotate(xy=(2.1,283), s='Kenya Airways')\n",
        "plt.annotate(xy=(1.1,225), s='China Airlines');"
      ],
      "execution_count": 0,
      "outputs": []
    },
    {
      "metadata": {
        "id": "GrySuNXOOnvD",
        "colab_type": "code",
        "colab": {}
      },
      "cell_type": "code",
      "source": [
        "plt.subplot(121)\n",
        "plt.scatter(x=df_fatalities_99.fatal_accidents_85_99, y=df_fatalities_99.fatalities_85_99,\n",
        "           s=80)\n",
        "\n",
        "plt.subplot(122)\n",
        "plt.scatter(x=df_fatalities_14.fatal_accidents_00_14, y=df_fatalities_14.fatalities_00_14,\n",
        "           s=80)\n"
      ],
      "execution_count": 0,
      "outputs": []
    },
    {
      "metadata": {
        "id": "54cEHQedmhUe",
        "colab_type": "code",
        "colab": {
          "base_uri": "https://localhost:8080/",
          "height": 427
        },
        "outputId": "362f8505-82e9-4c7d-b717-1b4186385c7c"
      },
      "cell_type": "code",
      "source": [
        "fig, (ax1,ax2) = plt.subplots(1, 2, figsize=(20, 6))\n",
        "\n",
        "sns.regplot(ax=ax1, x='fatal_accidents_85_99', y='fatalities_85_99', data=df_fatalities_99,\n",
        "           fit_reg=False)\n",
        "ax1.text(0,610, s='1985 - 1999 Headline Airline Fatal Crashes',\n",
        "        fontweight='bold', fontsize=14)\n",
        "ax1.text(0, 580, s='Avoid bad luck Airlines with Headline Fatalities Crashes.',\n",
        "        fontweight='bold', fontsize=11, color='red')\n",
        "ax1.annotate(xy=(6.5,535), s='China Airlines');\n",
        "ax1.annotate(xy=(1.5,520), s='Japan Airlines');\n",
        "ax1.annotate(xy=(5.5,425), s='Korean Air');           \n",
        "ax1.annotate(xy=(11.5,420), s='Delta/Northwest')\n",
        "ax1.annotate(xy=(1.5,329), s='Air India');\n",
        "\n",
        "sns.regplot(ax=ax2, x='fatal_accidents_00_14', y='fatalities_00_14', data=df_fatalities_14,\n",
        "           fit_reg=False)\n",
        "ax2.text(0,610, s='14 years later 2000 -2014, new bad luck Airlines',\n",
        "        fontweight='bold', fontsize=14)\n",
        "ax2.text(0, 580, s='Airlines Fatality Crashes are rare, non-repeatable and unhighly unpredictable',\n",
        "        fontweight='bold', fontsize=11, color='red')\n",
        "ax2.annotate(xy=(2.1,535), s='Malaysia Airlines');\n",
        "ax2.annotate(xy=(2.8,425), s='American');\n",
        "ax2.annotate(xy=(2.1,337), s='Air France');           \n",
        "ax2.annotate(xy=(2.1,283), s='Kenya Airways')\n",
        "ax2.annotate(xy=(1.1,225), s='China Airlines');\n"
      ],
      "execution_count": 4,
      "outputs": [
        {
          "output_type": "display_data",
          "data": {
            "image/png": "[encoded data removed]",
            "text/plain": [
              "<matplotlib.figure.Figure at 0x7faa37a9f0b8>"
            ]
          },
          "metadata": {
            "tags": []
          }
        }
      ]
    },
    {
      "metadata": {
        "id": "uohDpmSKh71I",
        "colab_type": "text"
      },
      "cell_type": "markdown",
      "source": [
        "## Avoid accident prone Airlines?\n",
        "Airline fatalities crashes are rare and rarely happen repeatedly. Rare accidents are unpredictable. Hence avoiding airlines with bad record of high accident incidents, make better sense.\n",
        "\n",
        "### Strategy 2: Avoid bad airline with highest bad past accident records\n",
        "\n"
      ]
    },
    {
      "metadata": {
        "id": "vT3nPxf_HMMN",
        "colab_type": "code",
        "colab": {}
      },
      "cell_type": "code",
      "source": [
        "dfsort_99 = df.sort_values(['fatal_accidents_85_99','incidents_85_99'], ascending=[False,False])\n"
      ],
      "execution_count": 0,
      "outputs": []
    },
    {
      "metadata": {
        "id": "BlF8VL3lLaZa",
        "colab_type": "text"
      },
      "cell_type": "markdown",
      "source": [
        "### Top 7 Airlines with highest Fatal and Incident accidents during 85 - 99"
      ]
    },
    {
      "metadata": {
        "id": "Xy3nZvKFm0Xy",
        "colab_type": "code",
        "colab": {}
      },
      "cell_type": "code",
      "source": [
        "sns.set_style('white')\n",
        "g=sns.relplot( x='incidents_85_99', y='fatal_accidents_85_99', hue='airline', size='fatalities_85_99', data=dfsort_99)\n",
        "g.fig.set_size_inches(12,8)\n",
        "plt.text(0,16, s='Avoid Airlines with highest Fatalities and Incidents accidents',\n",
        "        fontweight='bold', fontsize=11)\n",
        "plt.text(1,15, s=' 1988 - 1995',\n",
        "        fontweight='bold', fontsize=11)\n",
        "plt.annotate(xy=(70,13.5),s='Aeroflot');\n",
        "plt.text(x=20, y=11.5, s='Delta/Northwest');\n",
        "plt.text(x=20.5, y=8,s='United/Continental');\n",
        "plt.text(x=17, y=7,s='US Airways/America West');\n",
        "plt.annotate(xy=(13,6),s='China Airlines')\n",
        "            \n",
        "plt.annotate(xy=(27,5),s='Ethiopian Airlines')\n",
        "            \n",
        "plt.annotate(xy=(21,4.9), xytext=(24,4),s='American',\n",
        "            arrowprops=dict(facecolor='black'));\n"
      ],
      "execution_count": 0,
      "outputs": []
    },
    {
      "metadata": {
        "id": "SCuDYRKU9NeK",
        "colab_type": "text"
      },
      "cell_type": "markdown",
      "source": [
        "### 14 years later, same major Airlines had the same highest bad past accidents as before\n",
        "After 14 years, followed up checking on airline with highest bad past accidents records in previous 14 years periods.\n",
        "\n",
        "* Four out of the last top seven highest bad record holders, repeated among the new seven top bad accident airlines. The past highest bad accident airlines continued after 14 years period, were (American, Delta/Northwest, United/Continental, US Airways/America West and Ethiopian Airlines).\n",
        "\n",
        "* The exceptions were two of the last top seven accidents airlines (Aeroflot, China Airline ) went from top to low accident airline.\n",
        "\n",
        "### Not all repeated offenders repeat offences or are there other reasons.\n",
        "\n",
        "* Fatalities by Airlines are rare and even rarer when happened repeatedly.  Highly unpredictable.\n",
        "* Top accident airlines commonality are major airline flown in and out of major busy airport.\n",
        "* Higher rate of passengers travelled and flight flown, higher rate of accident incidents\n",
        "\n"
      ]
    },
    {
      "metadata": {
        "id": "YdiLGrT2qaha",
        "colab_type": "code",
        "colab": {}
      },
      "cell_type": "code",
      "source": [
        "dfsort_14 = df.sort_values(['fatal_accidents_00_14','incidents_00_14'], ascending=[False,False])"
      ],
      "execution_count": 0,
      "outputs": []
    },
    {
      "metadata": {
        "id": "3zpego_1pxZa",
        "colab_type": "code",
        "colab": {}
      },
      "cell_type": "code",
      "source": [
        "sns.set_style('white')\n",
        "g=sns.relplot( x='incidents_00_14', y='fatal_accidents_00_14', hue='airline', size='fatalities_00_14', data=dfsort_14)\n",
        "g.fig.set_size_inches(12,8)\n",
        "plt.text(0,3.5, s='Same major Airlines with highest Fatalities and Incidents accidents',\n",
        "        fontweight='bold', fontsize=11)\n",
        "plt.text(1.5,3.3, s='now 2000-2014 as prior between 1985-1999.',\n",
        "        fontweight='bold', fontsize=11)\n",
        "plt.annotate(xy=(16,2.9),s='American');\n",
        "plt.annotate(xy=(24.5,2.1), s='Delta/Northwest');\n",
        "plt.annotate(xy=(13.5,2.1),s='United/Continental');\n",
        "plt.annotate(xy=(11,2), xytext=(11,1.8),s='US Airways/America West',\n",
        "            arrowprops=dict(facecolor='black'));\n",
        "plt.annotate(xy=(2,1), xytext=(1.9,1.3),s='China Airlines',\n",
        "            arrowprops=dict(facecolor='black'));\n",
        "plt.annotate(xy=(5,2), xytext=(4,2.2),s='Ethiopian Airlines',\n",
        "            arrowprops=dict(facecolor='black'));\n",
        "plt.annotate(xy=(6,1), xytext=(7,1.1),s='Aeroflot',\n",
        "            arrowprops=dict(facecolor='black'));\n"
      ],
      "execution_count": 0,
      "outputs": []
    },
    {
      "metadata": {
        "id": "CHxLI7WcZ7Yy",
        "colab_type": "code",
        "colab": {
          "base_uri": "https://localhost:8080/",
          "height": 195
        },
        "outputId": "7eb5d35f-43a0-42b6-8b4c-3bc16f30a0d4"
      },
      "cell_type": "code",
      "source": [
        "dfsort_99.head()"
      ],
      "execution_count": 311,
      "outputs": [
        {
          "output_type": "execute_result",
          "data": {
            "text/html": [
              "<div>\n",
              "<style scoped>\n",
              "    .dataframe tbody tr th:only-of-type {\n",
              "        vertical-align: middle;\n",
              "    }\n",
              "\n",
              "    .dataframe tbody tr th {\n",
              "        vertical-align: top;\n",
              "    }\n",
              "\n",
              "    .dataframe thead th {\n",
              "        text-align: right;\n",
              "    }\n",
              "</style>\n",
              "<table border=\"1\" class=\"dataframe\">\n",
              "  <thead>\n",
              "    <tr style=\"text-align: right;\">\n",
              "      <th></th>\n",
              "      <th>airline</th>\n",
              "      <th>avail_seat_km_per_week</th>\n",
              "      <th>incidents_85_99</th>\n",
              "      <th>fatal_accidents_85_99</th>\n",
              "      <th>fatalities_85_99</th>\n",
              "      <th>incidents_00_14</th>\n",
              "      <th>fatal_accidents_00_14</th>\n",
              "      <th>fatalities_00_14</th>\n",
              "    </tr>\n",
              "  </thead>\n",
              "  <tbody>\n",
              "    <tr>\n",
              "      <th>1</th>\n",
              "      <td>Aeroflot*</td>\n",
              "      <td>1197672318</td>\n",
              "      <td>76</td>\n",
              "      <td>14</td>\n",
              "      <td>128</td>\n",
              "      <td>6</td>\n",
              "      <td>1</td>\n",
              "      <td>88</td>\n",
              "    </tr>\n",
              "    <tr>\n",
              "      <th>19</th>\n",
              "      <td>Delta / Northwest*</td>\n",
              "      <td>6525658894</td>\n",
              "      <td>24</td>\n",
              "      <td>12</td>\n",
              "      <td>407</td>\n",
              "      <td>24</td>\n",
              "      <td>2</td>\n",
              "      <td>51</td>\n",
              "    </tr>\n",
              "    <tr>\n",
              "      <th>51</th>\n",
              "      <td>United / Continental*</td>\n",
              "      <td>7139291291</td>\n",
              "      <td>19</td>\n",
              "      <td>8</td>\n",
              "      <td>319</td>\n",
              "      <td>14</td>\n",
              "      <td>2</td>\n",
              "      <td>109</td>\n",
              "    </tr>\n",
              "    <tr>\n",
              "      <th>52</th>\n",
              "      <td>US Airways / America West*</td>\n",
              "      <td>2455687887</td>\n",
              "      <td>16</td>\n",
              "      <td>7</td>\n",
              "      <td>224</td>\n",
              "      <td>11</td>\n",
              "      <td>2</td>\n",
              "      <td>23</td>\n",
              "    </tr>\n",
              "    <tr>\n",
              "      <th>16</th>\n",
              "      <td>China Airlines</td>\n",
              "      <td>813216487</td>\n",
              "      <td>12</td>\n",
              "      <td>6</td>\n",
              "      <td>535</td>\n",
              "      <td>2</td>\n",
              "      <td>1</td>\n",
              "      <td>225</td>\n",
              "    </tr>\n",
              "  </tbody>\n",
              "</table>\n",
              "</div>"
            ],
            "text/plain": [
              "                       airline  avail_seat_km_per_week  incidents_85_99  \\\n",
              "1                    Aeroflot*              1197672318               76   \n",
              "19          Delta / Northwest*              6525658894               24   \n",
              "51       United / Continental*              7139291291               19   \n",
              "52  US Airways / America West*              2455687887               16   \n",
              "16              China Airlines               813216487               12   \n",
              "\n",
              "    fatal_accidents_85_99  fatalities_85_99  incidents_00_14  \\\n",
              "1                      14               128                6   \n",
              "19                     12               407               24   \n",
              "51                      8               319               14   \n",
              "52                      7               224               11   \n",
              "16                      6               535                2   \n",
              "\n",
              "    fatal_accidents_00_14  fatalities_00_14  \n",
              "1                       1                88  \n",
              "19                      2                51  \n",
              "51                      2               109  \n",
              "52                      2                23  \n",
              "16                      1               225  "
            ]
          },
          "metadata": {
            "tags": []
          },
          "execution_count": 311
        }
      ]
    },
    {
      "metadata": {
        "id": "DHqD0CKAVsCy",
        "colab_type": "code",
        "colab": {
          "base_uri": "https://localhost:8080/",
          "height": 433
        },
        "outputId": "6fe57ab2-8d96-4f57-c4f7-46bef2be870c"
      },
      "cell_type": "code",
      "source": [
        "fig, (ax1,ax2) = plt.subplots(1, 2, figsize=(20, 6))\n",
        "sns.regplot( ax=ax1, x='incidents_85_99', y='fatal_accidents_85_99', data=dfsort_99,\n",
        "           fit_reg=False)\n",
        "ax1.text(0,16, s='1985 - 1999 Major Airlines Fatal and Incidents Accidents',\n",
        "        fontweight='bold', fontsize=14)\n",
        "ax1.text(0,15, s='Avoid Airlines with highest bad records',\n",
        "        fontweight='bold', fontsize=11, color='red')\n",
        "ax1.annotate(xy=(70,13.3),s='Aeroflot');\n",
        "ax1.text(x=20, y=11.3, s='Delta/Northwest');\n",
        "ax1.text(x=20.5, y=8,s='United/Continental');\n",
        "ax1.text(x=17, y=7,s='US Airways/America West');\n",
        "ax1.annotate(xy=(13,6),s='China Airlines')         \n",
        "ax1.annotate(xy=(27,5),s='Ethiopian Airlines')         \n",
        "ax1.annotate(xy=(21,4.9), xytext=(24,4),s='American',\n",
        "            arrowprops=dict(facecolor='black'));\n",
        "\n",
        "sns.regplot( ax=ax2, x='incidents_00_14', y='fatal_accidents_00_14', data=dfsort_14,\n",
        "           fit_reg=False)\n",
        "ax2.text(0,3.5, s='14 years later 2000 - 2014, same bad prior Airlines',\n",
        "        fontweight='bold', fontsize=14)\n",
        "ax2.text(0,3.3, s='Commonalities: Flown out of major high traffic airports',\n",
        "        fontweight='bold', fontsize=11, color='red')\n",
        "ax2.annotate(xy=(16,2.8),s='American');\n",
        "ax2.annotate(xy=(20.5,2.1), s='Delta/Northwest');\n",
        "ax2.annotate(xy=(13,2.1),s='United/Continental');\n",
        "ax2.annotate(xy=(11,2), xytext=(11,1.8),s='US Airways/America West',\n",
        "            arrowprops=dict(facecolor='black'));\n",
        "ax2.annotate(xy=(2,1), xytext=(1.9,1.3),s='China Airlines',\n",
        "            arrowprops=dict(facecolor='black'));\n",
        "ax2.annotate(xy=(5,2), xytext=(4,2.2),s='Ethiopian Airlines',\n",
        "            arrowprops=dict(facecolor='black'));\n",
        "ax2.annotate(xy=(6,1), xytext=(7,1.1),s='Aeroflot',\n",
        "            arrowprops=dict(facecolor='black'));\n",
        "\n"
      ],
      "execution_count": 8,
      "outputs": [
        {
          "output_type": "display_data",
          "data": {
            "image/png": "[encoded data removed]",
            "text/plain": [
              "<matplotlib.figure.Figure at 0x7faa34fa4160>"
            ]
          },
          "metadata": {
            "tags": []
          }
        }
      ]
    },
    {
      "metadata": {
        "id": "s_ZITk2xOkKX",
        "colab_type": "text"
      },
      "cell_type": "markdown",
      "source": [
        "### Normalize data and then compare\n",
        "Let’s combine the three measures of crash rates — incidents, fatal accidents and fatalities — into a single measure and call it as airline’s safety score. Calculate it as follows:\n",
        "\n",
        "For each category, subtract an airline’s crash rate from the average for all airlines since 1985. This gives safer airlines positive scores and less safe airlines negative scores.\n",
        "\n",
        "Multiply the result by the square root of the number of seat kilometers flown. This gives more credit to an airline that has achieved a strong safety record over a larger sample of flights.\n",
        "\n",
        "Standardize the score in each category to calculate how many standard deviations an airline is above or below the mean. Then average the scores from the three categories together. This is the safety score."
      ]
    },
    {
      "metadata": {
        "id": "uKpN0N42J4kh",
        "colab_type": "text"
      },
      "cell_type": "markdown",
      "source": [
        "### Normalize all accidents by avail seat per km per week for 1985-1999"
      ]
    },
    {
      "metadata": {
        "id": "gNM-Y2zKz4Pj",
        "colab_type": "code",
        "colab": {
          "base_uri": "https://localhost:8080/",
          "height": 195
        },
        "outputId": "383470a8-28e7-4d4d-fa53-07366dc39d74"
      },
      "cell_type": "code",
      "source": [
        "'''\n",
        "Extracting incident using loc\n",
        "'''\n",
        "df1 = df.loc[:,['airline','avail_seat_km_per_week','incidents_85_99','fatal_accidents_85_99','fatalities_85_99']]\n",
        "df1.head()"
      ],
      "execution_count": 9,
      "outputs": [
        {
          "output_type": "execute_result",
          "data": {
            "text/html": [
              "<div>\n",
              "<style scoped>\n",
              "    .dataframe tbody tr th:only-of-type {\n",
              "        vertical-align: middle;\n",
              "    }\n",
              "\n",
              "    .dataframe tbody tr th {\n",
              "        vertical-align: top;\n",
              "    }\n",
              "\n",
              "    .dataframe thead th {\n",
              "        text-align: right;\n",
              "    }\n",
              "</style>\n",
              "<table border=\"1\" class=\"dataframe\">\n",
              "  <thead>\n",
              "    <tr style=\"text-align: right;\">\n",
              "      <th></th>\n",
              "      <th>airline</th>\n",
              "      <th>avail_seat_km_per_week</th>\n",
              "      <th>incidents_85_99</th>\n",
              "      <th>fatal_accidents_85_99</th>\n",
              "      <th>fatalities_85_99</th>\n",
              "    </tr>\n",
              "  </thead>\n",
              "  <tbody>\n",
              "    <tr>\n",
              "      <th>0</th>\n",
              "      <td>Aer Lingus</td>\n",
              "      <td>320906734</td>\n",
              "      <td>2</td>\n",
              "      <td>0</td>\n",
              "      <td>0</td>\n",
              "    </tr>\n",
              "    <tr>\n",
              "      <th>1</th>\n",
              "      <td>Aeroflot*</td>\n",
              "      <td>1197672318</td>\n",
              "      <td>76</td>\n",
              "      <td>14</td>\n",
              "      <td>128</td>\n",
              "    </tr>\n",
              "    <tr>\n",
              "      <th>2</th>\n",
              "      <td>Aerolineas Argentinas</td>\n",
              "      <td>385803648</td>\n",
              "      <td>6</td>\n",
              "      <td>0</td>\n",
              "      <td>0</td>\n",
              "    </tr>\n",
              "    <tr>\n",
              "      <th>3</th>\n",
              "      <td>Aeromexico*</td>\n",
              "      <td>596871813</td>\n",
              "      <td>3</td>\n",
              "      <td>1</td>\n",
              "      <td>64</td>\n",
              "    </tr>\n",
              "    <tr>\n",
              "      <th>4</th>\n",
              "      <td>Air Canada</td>\n",
              "      <td>1865253802</td>\n",
              "      <td>2</td>\n",
              "      <td>0</td>\n",
              "      <td>0</td>\n",
              "    </tr>\n",
              "  </tbody>\n",
              "</table>\n",
              "</div>"
            ],
            "text/plain": [
              "                 airline  avail_seat_km_per_week  incidents_85_99  \\\n",
              "0             Aer Lingus               320906734                2   \n",
              "1              Aeroflot*              1197672318               76   \n",
              "2  Aerolineas Argentinas               385803648                6   \n",
              "3            Aeromexico*               596871813                3   \n",
              "4             Air Canada              1865253802                2   \n",
              "\n",
              "   fatal_accidents_85_99  fatalities_85_99  \n",
              "0                      0                 0  \n",
              "1                     14               128  \n",
              "2                      0                 0  \n",
              "3                      1                64  \n",
              "4                      0                 0  "
            ]
          },
          "metadata": {
            "tags": []
          },
          "execution_count": 9
        }
      ]
    },
    {
      "metadata": {
        "id": "LONkdGvBzG_S",
        "colab_type": "code",
        "colab": {
          "base_uri": "https://localhost:8080/",
          "height": 195
        },
        "outputId": "cd24eeec-7030-4389-a57a-2d1f3cf3e3af"
      },
      "cell_type": "code",
      "source": [
        "'''\n",
        "Calculate the mean, then normalized accidents by avail seat \n",
        "'''\n",
        "incident_mean = df1.incidents_85_99.mean()\n",
        "fatal_accidents_mean = df1.fatal_accidents_85_99.mean()\n",
        "fatal_mean = df1.fatalities_85_99.mean()\n",
        "df1['incidents_85_99'] =  ((incident_mean - df1.incidents_85_99 ) * (df1.avail_seat_km_per_week **0.5)) \n",
        "df1['fatal_accidents_85_99'] =  ((fatal_accidents_mean - df1.fatal_accidents_85_99 ) * (df1.avail_seat_km_per_week **0.5)) \n",
        "df1['fatalities_85_99'] =  ((fatal_mean - df1.fatalities_85_99 ) * (df1.avail_seat_km_per_week **0.5)) \n",
        "df1.head()"
      ],
      "execution_count": 10,
      "outputs": [
        {
          "output_type": "execute_result",
          "data": {
            "text/html": [
              "<div>\n",
              "<style scoped>\n",
              "    .dataframe tbody tr th:only-of-type {\n",
              "        vertical-align: middle;\n",
              "    }\n",
              "\n",
              "    .dataframe tbody tr th {\n",
              "        vertical-align: top;\n",
              "    }\n",
              "\n",
              "    .dataframe thead th {\n",
              "        text-align: right;\n",
              "    }\n",
              "</style>\n",
              "<table border=\"1\" class=\"dataframe\">\n",
              "  <thead>\n",
              "    <tr style=\"text-align: right;\">\n",
              "      <th></th>\n",
              "      <th>airline</th>\n",
              "      <th>avail_seat_km_per_week</th>\n",
              "      <th>incidents_85_99</th>\n",
              "      <th>fatal_accidents_85_99</th>\n",
              "      <th>fatalities_85_99</th>\n",
              "    </tr>\n",
              "  </thead>\n",
              "  <tbody>\n",
              "    <tr>\n",
              "      <th>0</th>\n",
              "      <td>Aer Lingus</td>\n",
              "      <td>320906734</td>\n",
              "      <td>9.276825e+04</td>\n",
              "      <td>39026.645091</td>\n",
              "      <td>2.013711e+06</td>\n",
              "    </tr>\n",
              "    <tr>\n",
              "      <th>1</th>\n",
              "      <td>Aeroflot*</td>\n",
              "      <td>1197672318</td>\n",
              "      <td>-2.381731e+06</td>\n",
              "      <td>-409108.938439</td>\n",
              "      <td>-5.395047e+05</td>\n",
              "    </tr>\n",
              "    <tr>\n",
              "      <th>2</th>\n",
              "      <td>Aerolineas Argentinas</td>\n",
              "      <td>385803648</td>\n",
              "      <td>2.314936e+04</td>\n",
              "      <td>42791.249556</td>\n",
              "      <td>2.207958e+06</td>\n",
              "    </tr>\n",
              "    <tr>\n",
              "      <th>3</th>\n",
              "      <td>Aeromexico*</td>\n",
              "      <td>596871813</td>\n",
              "      <td>1.020865e+05</td>\n",
              "      <td>28793.631585</td>\n",
              "      <td>1.182720e+06</td>\n",
              "    </tr>\n",
              "    <tr>\n",
              "      <th>4</th>\n",
              "      <td>Air Canada</td>\n",
              "      <td>1865253802</td>\n",
              "      <td>2.236552e+05</td>\n",
              "      <td>94089.415498</td>\n",
              "      <td>4.854860e+06</td>\n",
              "    </tr>\n",
              "  </tbody>\n",
              "</table>\n",
              "</div>"
            ],
            "text/plain": [
              "                 airline  avail_seat_km_per_week  incidents_85_99  \\\n",
              "0             Aer Lingus               320906734     9.276825e+04   \n",
              "1              Aeroflot*              1197672318    -2.381731e+06   \n",
              "2  Aerolineas Argentinas               385803648     2.314936e+04   \n",
              "3            Aeromexico*               596871813     1.020865e+05   \n",
              "4             Air Canada              1865253802     2.236552e+05   \n",
              "\n",
              "   fatal_accidents_85_99  fatalities_85_99  \n",
              "0           39026.645091      2.013711e+06  \n",
              "1         -409108.938439     -5.395047e+05  \n",
              "2           42791.249556      2.207958e+06  \n",
              "3           28793.631585      1.182720e+06  \n",
              "4           94089.415498      4.854860e+06  "
            ]
          },
          "metadata": {
            "tags": []
          },
          "execution_count": 10
        }
      ]
    },
    {
      "metadata": {
        "id": "2vpwdf5c_48L",
        "colab_type": "code",
        "colab": {
          "base_uri": "https://localhost:8080/",
          "height": 67
        },
        "outputId": "3f5e4f02-c2f7-49a0-f867-5ae25a29b380"
      },
      "cell_type": "code",
      "source": [
        "'''\n",
        "Compare old mean and new mean to check for error\n",
        "'''\n",
        "normalized_incident_mean = df1.incidents_85_99.mean()\n",
        "normalized_fatal_accidents_mean = df1.fatal_accidents_85_99.mean()\n",
        "normalized_fatalities_mean = df1.fatalities_85_99.mean()\n",
        "print('incident mean {} and new mean {}'.format(incident_mean, normalized_incident_mean))\n",
        "print('fatal accident mean {} and new mean {}'.format(fatal_accidents_mean, normalized_fatal_accidents_mean))\n",
        "print('fatalities mean {} and new mean {}'.format(fatal_mean, normalized_fatalities_mean))"
      ],
      "execution_count": 12,
      "outputs": [
        {
          "output_type": "stream",
          "text": [
            "incident mean 7.178571428571429 and new mean -47134.767180689145\n",
            "fatal accident mean 2.1785714285714284 and new mean -19272.258294015908\n",
            "fatalities mean 112.41071428571429 and new mean -461939.394201175\n"
          ],
          "name": "stdout"
        }
      ]
    },
    {
      "metadata": {
        "id": "8k8sfeiE7aD-",
        "colab_type": "code",
        "colab": {
          "base_uri": "https://localhost:8080/",
          "height": 195
        },
        "outputId": "11ee5a62-eefe-4f9f-9e45-3d1da4fa03c5"
      },
      "cell_type": "code",
      "source": [
        "'''\n",
        "Calculate accident deviation from mean\n",
        "'''\n",
        "df1['incident_var'] = df1.incidents_85_99 / (normalized_incident_mean)\n",
        "df1['fatal_accidents_var'] = df1.fatal_accidents_85_99 / (normalized_fatal_accidents_mean)\n",
        "df1['fatalities_var'] = df1.fatalities_85_99 / (normalized_fatalities_mean)\n",
        "df1['safety_score'] = (df1.incident_var + df1.fatal_accidents_var + df1.fatalities_var)/3\n",
        "df1.head()"
      ],
      "execution_count": 13,
      "outputs": [
        {
          "output_type": "execute_result",
          "data": {
            "text/html": [
              "<div>\n",
              "<style scoped>\n",
              "    .dataframe tbody tr th:only-of-type {\n",
              "        vertical-align: middle;\n",
              "    }\n",
              "\n",
              "    .dataframe tbody tr th {\n",
              "        vertical-align: top;\n",
              "    }\n",
              "\n",
              "    .dataframe thead th {\n",
              "        text-align: right;\n",
              "    }\n",
              "</style>\n",
              "<table border=\"1\" class=\"dataframe\">\n",
              "  <thead>\n",
              "    <tr style=\"text-align: right;\">\n",
              "      <th></th>\n",
              "      <th>airline</th>\n",
              "      <th>avail_seat_km_per_week</th>\n",
              "      <th>incidents_85_99</th>\n",
              "      <th>fatal_accidents_85_99</th>\n",
              "      <th>fatalities_85_99</th>\n",
              "      <th>incident_var</th>\n",
              "      <th>fatal_accidents_var</th>\n",
              "      <th>fatalities_var</th>\n",
              "      <th>safety_score</th>\n",
              "    </tr>\n",
              "  </thead>\n",
              "  <tbody>\n",
              "    <tr>\n",
              "      <th>0</th>\n",
              "      <td>Aer Lingus</td>\n",
              "      <td>320906734</td>\n",
              "      <td>9.276825e+04</td>\n",
              "      <td>39026.645091</td>\n",
              "      <td>2.013711e+06</td>\n",
              "      <td>-1.968149</td>\n",
              "      <td>-2.025017</td>\n",
              "      <td>-4.359253</td>\n",
              "      <td>-2.784140</td>\n",
              "    </tr>\n",
              "    <tr>\n",
              "      <th>1</th>\n",
              "      <td>Aeroflot*</td>\n",
              "      <td>1197672318</td>\n",
              "      <td>-2.381731e+06</td>\n",
              "      <td>-409108.938439</td>\n",
              "      <td>-5.395047e+05</td>\n",
              "      <td>50.530236</td>\n",
              "      <td>21.227867</td>\n",
              "      <td>1.167912</td>\n",
              "      <td>24.308672</td>\n",
              "    </tr>\n",
              "    <tr>\n",
              "      <th>2</th>\n",
              "      <td>Aerolineas Argentinas</td>\n",
              "      <td>385803648</td>\n",
              "      <td>2.314936e+04</td>\n",
              "      <td>42791.249556</td>\n",
              "      <td>2.207958e+06</td>\n",
              "      <td>-0.491131</td>\n",
              "      <td>-2.220355</td>\n",
              "      <td>-4.779758</td>\n",
              "      <td>-2.497081</td>\n",
              "    </tr>\n",
              "    <tr>\n",
              "      <th>3</th>\n",
              "      <td>Aeromexico*</td>\n",
              "      <td>596871813</td>\n",
              "      <td>1.020865e+05</td>\n",
              "      <td>28793.631585</td>\n",
              "      <td>1.182720e+06</td>\n",
              "      <td>-2.165843</td>\n",
              "      <td>-1.494046</td>\n",
              "      <td>-2.560336</td>\n",
              "      <td>-2.073408</td>\n",
              "    </tr>\n",
              "    <tr>\n",
              "      <th>4</th>\n",
              "      <td>Air Canada</td>\n",
              "      <td>1865253802</td>\n",
              "      <td>2.236552e+05</td>\n",
              "      <td>94089.415498</td>\n",
              "      <td>4.854860e+06</td>\n",
              "      <td>-4.745015</td>\n",
              "      <td>-4.882117</td>\n",
              "      <td>-10.509733</td>\n",
              "      <td>-6.712288</td>\n",
              "    </tr>\n",
              "  </tbody>\n",
              "</table>\n",
              "</div>"
            ],
            "text/plain": [
              "                 airline  avail_seat_km_per_week  incidents_85_99  \\\n",
              "0             Aer Lingus               320906734     9.276825e+04   \n",
              "1              Aeroflot*              1197672318    -2.381731e+06   \n",
              "2  Aerolineas Argentinas               385803648     2.314936e+04   \n",
              "3            Aeromexico*               596871813     1.020865e+05   \n",
              "4             Air Canada              1865253802     2.236552e+05   \n",
              "\n",
              "   fatal_accidents_85_99  fatalities_85_99  incident_var  fatal_accidents_var  \\\n",
              "0           39026.645091      2.013711e+06     -1.968149            -2.025017   \n",
              "1         -409108.938439     -5.395047e+05     50.530236            21.227867   \n",
              "2           42791.249556      2.207958e+06     -0.491131            -2.220355   \n",
              "3           28793.631585      1.182720e+06     -2.165843            -1.494046   \n",
              "4           94089.415498      4.854860e+06     -4.745015            -4.882117   \n",
              "\n",
              "   fatalities_var  safety_score  \n",
              "0       -4.359253     -2.784140  \n",
              "1        1.167912     24.308672  \n",
              "2       -4.779758     -2.497081  \n",
              "3       -2.560336     -2.073408  \n",
              "4      -10.509733     -6.712288  "
            ]
          },
          "metadata": {
            "tags": []
          },
          "execution_count": 13
        }
      ]
    },
    {
      "metadata": {
        "id": "wUpsIk5uL5kZ",
        "colab_type": "text"
      },
      "cell_type": "markdown",
      "source": [
        "### Normalize accidents by avail seat per km per week for 2000-2014"
      ]
    },
    {
      "metadata": {
        "id": "bI5MkwMnMEqk",
        "colab_type": "code",
        "colab": {
          "base_uri": "https://localhost:8080/",
          "height": 195
        },
        "outputId": "fc051894-a718-4acb-de0d-fa3eca7f6dab"
      },
      "cell_type": "code",
      "source": [
        "df2 = df.loc[:,['airline','avail_seat_km_per_week','incidents_00_14','fatal_accidents_00_14','fatalities_00_14']]\n",
        "df2.head()"
      ],
      "execution_count": 16,
      "outputs": [
        {
          "output_type": "execute_result",
          "data": {
            "text/html": [
              "<div>\n",
              "<style scoped>\n",
              "    .dataframe tbody tr th:only-of-type {\n",
              "        vertical-align: middle;\n",
              "    }\n",
              "\n",
              "    .dataframe tbody tr th {\n",
              "        vertical-align: top;\n",
              "    }\n",
              "\n",
              "    .dataframe thead th {\n",
              "        text-align: right;\n",
              "    }\n",
              "</style>\n",
              "<table border=\"1\" class=\"dataframe\">\n",
              "  <thead>\n",
              "    <tr style=\"text-align: right;\">\n",
              "      <th></th>\n",
              "      <th>airline</th>\n",
              "      <th>avail_seat_km_per_week</th>\n",
              "      <th>incidents_00_14</th>\n",
              "      <th>fatal_accidents_00_14</th>\n",
              "      <th>fatalities_00_14</th>\n",
              "    </tr>\n",
              "  </thead>\n",
              "  <tbody>\n",
              "    <tr>\n",
              "      <th>0</th>\n",
              "      <td>Aer Lingus</td>\n",
              "      <td>320906734</td>\n",
              "      <td>0</td>\n",
              "      <td>0</td>\n",
              "      <td>0</td>\n",
              "    </tr>\n",
              "    <tr>\n",
              "      <th>1</th>\n",
              "      <td>Aeroflot*</td>\n",
              "      <td>1197672318</td>\n",
              "      <td>6</td>\n",
              "      <td>1</td>\n",
              "      <td>88</td>\n",
              "    </tr>\n",
              "    <tr>\n",
              "      <th>2</th>\n",
              "      <td>Aerolineas Argentinas</td>\n",
              "      <td>385803648</td>\n",
              "      <td>1</td>\n",
              "      <td>0</td>\n",
              "      <td>0</td>\n",
              "    </tr>\n",
              "    <tr>\n",
              "      <th>3</th>\n",
              "      <td>Aeromexico*</td>\n",
              "      <td>596871813</td>\n",
              "      <td>5</td>\n",
              "      <td>0</td>\n",
              "      <td>0</td>\n",
              "    </tr>\n",
              "    <tr>\n",
              "      <th>4</th>\n",
              "      <td>Air Canada</td>\n",
              "      <td>1865253802</td>\n",
              "      <td>2</td>\n",
              "      <td>0</td>\n",
              "      <td>0</td>\n",
              "    </tr>\n",
              "  </tbody>\n",
              "</table>\n",
              "</div>"
            ],
            "text/plain": [
              "                 airline  avail_seat_km_per_week  incidents_00_14  \\\n",
              "0             Aer Lingus               320906734                0   \n",
              "1              Aeroflot*              1197672318                6   \n",
              "2  Aerolineas Argentinas               385803648                1   \n",
              "3            Aeromexico*               596871813                5   \n",
              "4             Air Canada              1865253802                2   \n",
              "\n",
              "   fatal_accidents_00_14  fatalities_00_14  \n",
              "0                      0                 0  \n",
              "1                      1                88  \n",
              "2                      0                 0  \n",
              "3                      0                 0  \n",
              "4                      0                 0  "
            ]
          },
          "metadata": {
            "tags": []
          },
          "execution_count": 16
        }
      ]
    },
    {
      "metadata": {
        "id": "QKoAlk_mMnOU",
        "colab_type": "code",
        "colab": {
          "base_uri": "https://localhost:8080/",
          "height": 195
        },
        "outputId": "ca7aa603-7e0f-4c34-c24d-c8c6d74267cf"
      },
      "cell_type": "code",
      "source": [
        "'''\n",
        "Calculate the mean, then normalized accidents by avail seat \n",
        "'''\n",
        "incident_mean = df2.incidents_00_14.mean()\n",
        "fatal_accidents_mean = df2.fatal_accidents_00_14.mean()\n",
        "fatal_mean = df2.fatalities_00_14.mean()\n",
        "df2['incidents_00_14'] =  ((incident_mean - df2.incidents_00_14 ) * (df2.avail_seat_km_per_week **0.5)) \n",
        "df2['fatal_accidents_00_14'] =  ((fatal_accidents_mean - df2.fatal_accidents_00_14 ) * (df2.avail_seat_km_per_week **0.5)) \n",
        "df2['fatalities_00_14'] =  ((fatal_mean - df2.fatalities_00_14 ) * (df2.avail_seat_km_per_week **0.5)) \n",
        "df2.head()"
      ],
      "execution_count": 17,
      "outputs": [
        {
          "output_type": "execute_result",
          "data": {
            "text/html": [
              "<div>\n",
              "<style scoped>\n",
              "    .dataframe tbody tr th:only-of-type {\n",
              "        vertical-align: middle;\n",
              "    }\n",
              "\n",
              "    .dataframe tbody tr th {\n",
              "        vertical-align: top;\n",
              "    }\n",
              "\n",
              "    .dataframe thead th {\n",
              "        text-align: right;\n",
              "    }\n",
              "</style>\n",
              "<table border=\"1\" class=\"dataframe\">\n",
              "  <thead>\n",
              "    <tr style=\"text-align: right;\">\n",
              "      <th></th>\n",
              "      <th>airline</th>\n",
              "      <th>avail_seat_km_per_week</th>\n",
              "      <th>incidents_00_14</th>\n",
              "      <th>fatal_accidents_00_14</th>\n",
              "      <th>fatalities_00_14</th>\n",
              "    </tr>\n",
              "  </thead>\n",
              "  <tbody>\n",
              "    <tr>\n",
              "      <th>0</th>\n",
              "      <td>Aer Lingus</td>\n",
              "      <td>320906734</td>\n",
              "      <td>73894.713246</td>\n",
              "      <td>11835.949741</td>\n",
              "      <td>9.945397e+05</td>\n",
              "    </tr>\n",
              "    <tr>\n",
              "      <th>1</th>\n",
              "      <td>Aeroflot*</td>\n",
              "      <td>1197672318</td>\n",
              "      <td>-64888.879964</td>\n",
              "      <td>-11741.797327</td>\n",
              "      <td>-1.124123e+06</td>\n",
              "    </tr>\n",
              "    <tr>\n",
              "      <th>2</th>\n",
              "      <td>Aerolineas Argentinas</td>\n",
              "      <td>385803648</td>\n",
              "      <td>61380.890756</td>\n",
              "      <td>12977.674046</td>\n",
              "      <td>1.090475e+06</td>\n",
              "    </tr>\n",
              "    <tr>\n",
              "      <th>3</th>\n",
              "      <td>Aeromexico*</td>\n",
              "      <td>596871813</td>\n",
              "      <td>-21377.090116</td>\n",
              "      <td>16141.884373</td>\n",
              "      <td>1.356355e+06</td>\n",
              "    </tr>\n",
              "    <tr>\n",
              "      <th>4</th>\n",
              "      <td>Air Canada</td>\n",
              "      <td>1865253802</td>\n",
              "      <td>91775.741346</td>\n",
              "      <td>28535.314536</td>\n",
              "      <td>2.397738e+06</td>\n",
              "    </tr>\n",
              "  </tbody>\n",
              "</table>\n",
              "</div>"
            ],
            "text/plain": [
              "                 airline  avail_seat_km_per_week  incidents_00_14  \\\n",
              "0             Aer Lingus               320906734     73894.713246   \n",
              "1              Aeroflot*              1197672318    -64888.879964   \n",
              "2  Aerolineas Argentinas               385803648     61380.890756   \n",
              "3            Aeromexico*               596871813    -21377.090116   \n",
              "4             Air Canada              1865253802     91775.741346   \n",
              "\n",
              "   fatal_accidents_00_14  fatalities_00_14  \n",
              "0           11835.949741      9.945397e+05  \n",
              "1          -11741.797327     -1.124123e+06  \n",
              "2           12977.674046      1.090475e+06  \n",
              "3           16141.884373      1.356355e+06  \n",
              "4           28535.314536      2.397738e+06  "
            ]
          },
          "metadata": {
            "tags": []
          },
          "execution_count": 17
        }
      ]
    },
    {
      "metadata": {
        "id": "0HXcwecDQCwn",
        "colab_type": "code",
        "colab": {
          "base_uri": "https://localhost:8080/",
          "height": 195
        },
        "outputId": "194fa5d9-b26e-4a9e-8f24-2c6427e62800"
      },
      "cell_type": "code",
      "source": [
        "'''\n",
        "Calculate accident deviation from mean\n",
        "'''\n",
        "df2['incident_var'] = df2.incidents_00_14 / (normalized_incident_mean)\n",
        "df2['fatal_accidents_var'] = df2.fatal_accidents_00_14 / (normalized_fatal_accidents_mean)\n",
        "df2['fatalities_var'] = df2.fatalities_00_14 / (normalized_fatalities_mean)\n",
        "df2['safety_score'] = (df2.incident_var + df2.fatal_accidents_var + df2.fatalities_var)/3\n",
        "df2.head()"
      ],
      "execution_count": 18,
      "outputs": [
        {
          "output_type": "execute_result",
          "data": {
            "text/html": [
              "<div>\n",
              "<style scoped>\n",
              "    .dataframe tbody tr th:only-of-type {\n",
              "        vertical-align: middle;\n",
              "    }\n",
              "\n",
              "    .dataframe tbody tr th {\n",
              "        vertical-align: top;\n",
              "    }\n",
              "\n",
              "    .dataframe thead th {\n",
              "        text-align: right;\n",
              "    }\n",
              "</style>\n",
              "<table border=\"1\" class=\"dataframe\">\n",
              "  <thead>\n",
              "    <tr style=\"text-align: right;\">\n",
              "      <th></th>\n",
              "      <th>airline</th>\n",
              "      <th>avail_seat_km_per_week</th>\n",
              "      <th>incidents_00_14</th>\n",
              "      <th>fatal_accidents_00_14</th>\n",
              "      <th>fatalities_00_14</th>\n",
              "      <th>incident_var</th>\n",
              "      <th>fatal_accidents_var</th>\n",
              "      <th>fatalities_var</th>\n",
              "      <th>safety_score</th>\n",
              "    </tr>\n",
              "  </thead>\n",
              "  <tbody>\n",
              "    <tr>\n",
              "      <th>0</th>\n",
              "      <td>Aer Lingus</td>\n",
              "      <td>320906734</td>\n",
              "      <td>73894.713246</td>\n",
              "      <td>11835.949741</td>\n",
              "      <td>9.945397e+05</td>\n",
              "      <td>-1.567733</td>\n",
              "      <td>-0.614144</td>\n",
              "      <td>-2.152966</td>\n",
              "      <td>-1.444948</td>\n",
              "    </tr>\n",
              "    <tr>\n",
              "      <th>1</th>\n",
              "      <td>Aeroflot*</td>\n",
              "      <td>1197672318</td>\n",
              "      <td>-64888.879964</td>\n",
              "      <td>-11741.797327</td>\n",
              "      <td>-1.124123e+06</td>\n",
              "      <td>1.376667</td>\n",
              "      <td>0.609259</td>\n",
              "      <td>2.433485</td>\n",
              "      <td>1.473137</td>\n",
              "    </tr>\n",
              "    <tr>\n",
              "      <th>2</th>\n",
              "      <td>Aerolineas Argentinas</td>\n",
              "      <td>385803648</td>\n",
              "      <td>61380.890756</td>\n",
              "      <td>12977.674046</td>\n",
              "      <td>1.090475e+06</td>\n",
              "      <td>-1.302242</td>\n",
              "      <td>-0.673386</td>\n",
              "      <td>-2.360646</td>\n",
              "      <td>-1.445425</td>\n",
              "    </tr>\n",
              "    <tr>\n",
              "      <th>3</th>\n",
              "      <td>Aeromexico*</td>\n",
              "      <td>596871813</td>\n",
              "      <td>-21377.090116</td>\n",
              "      <td>16141.884373</td>\n",
              "      <td>1.356355e+06</td>\n",
              "      <td>0.453531</td>\n",
              "      <td>-0.837571</td>\n",
              "      <td>-2.936218</td>\n",
              "      <td>-1.106752</td>\n",
              "    </tr>\n",
              "    <tr>\n",
              "      <th>4</th>\n",
              "      <td>Air Canada</td>\n",
              "      <td>1865253802</td>\n",
              "      <td>91775.741346</td>\n",
              "      <td>28535.314536</td>\n",
              "      <td>2.397738e+06</td>\n",
              "      <td>-1.947092</td>\n",
              "      <td>-1.480642</td>\n",
              "      <td>-5.190589</td>\n",
              "      <td>-2.872774</td>\n",
              "    </tr>\n",
              "  </tbody>\n",
              "</table>\n",
              "</div>"
            ],
            "text/plain": [
              "                 airline  avail_seat_km_per_week  incidents_00_14  \\\n",
              "0             Aer Lingus               320906734     73894.713246   \n",
              "1              Aeroflot*              1197672318    -64888.879964   \n",
              "2  Aerolineas Argentinas               385803648     61380.890756   \n",
              "3            Aeromexico*               596871813    -21377.090116   \n",
              "4             Air Canada              1865253802     91775.741346   \n",
              "\n",
              "   fatal_accidents_00_14  fatalities_00_14  incident_var  fatal_accidents_var  \\\n",
              "0           11835.949741      9.945397e+05     -1.567733            -0.614144   \n",
              "1          -11741.797327     -1.124123e+06      1.376667             0.609259   \n",
              "2           12977.674046      1.090475e+06     -1.302242            -0.673386   \n",
              "3           16141.884373      1.356355e+06      0.453531            -0.837571   \n",
              "4           28535.314536      2.397738e+06     -1.947092            -1.480642   \n",
              "\n",
              "   fatalities_var  safety_score  \n",
              "0       -2.152966     -1.444948  \n",
              "1        2.433485      1.473137  \n",
              "2       -2.360646     -1.445425  \n",
              "3       -2.936218     -1.106752  \n",
              "4       -5.190589     -2.872774  "
            ]
          },
          "metadata": {
            "tags": []
          },
          "execution_count": 18
        }
      ]
    },
    {
      "metadata": {
        "id": "aDedhZNM-sGc",
        "colab_type": "code",
        "colab": {
          "base_uri": "https://localhost:8080/",
          "height": 284
        },
        "outputId": "7b731358-8309-4393-c443-c019fb9dba44"
      },
      "cell_type": "code",
      "source": [
        "'''\n",
        "Airline Safety Index between 85-99 and 00-14\n",
        "'''\n",
        "safety_index = df1.loc[:, ['airline']]\n",
        "safety_index['safety_85_99'] = df1.loc[:, 'safety_score']\n",
        "safety_index['safety_00_14'] = df2.loc[:,'safety_score']\n",
        "safety_index = safety_index[safety_index.safety_85_99 < 0]\n",
        "safety_index = safety_index[safety_index.safety_00_14 <0]\n",
        "\n",
        "safety_index.sort_values(['safety_85_99', 'safety_00_14']).head(8)\n"
      ],
      "execution_count": 69,
      "outputs": [
        {
          "output_type": "execute_result",
          "data": {
            "text/html": [
              "<div>\n",
              "<style scoped>\n",
              "    .dataframe tbody tr th:only-of-type {\n",
              "        vertical-align: middle;\n",
              "    }\n",
              "\n",
              "    .dataframe tbody tr th {\n",
              "        vertical-align: top;\n",
              "    }\n",
              "\n",
              "    .dataframe thead th {\n",
              "        text-align: right;\n",
              "    }\n",
              "</style>\n",
              "<table border=\"1\" class=\"dataframe\">\n",
              "  <thead>\n",
              "    <tr style=\"text-align: right;\">\n",
              "      <th></th>\n",
              "      <th>airline</th>\n",
              "      <th>safety_85_99</th>\n",
              "      <th>safety_00_14</th>\n",
              "    </tr>\n",
              "  </thead>\n",
              "  <tbody>\n",
              "    <tr>\n",
              "      <th>43</th>\n",
              "      <td>Southwest Airlines</td>\n",
              "      <td>-9.301083</td>\n",
              "      <td>-1.378675</td>\n",
              "    </tr>\n",
              "    <tr>\n",
              "      <th>15</th>\n",
              "      <td>Cathay Pacific*</td>\n",
              "      <td>-8.616783</td>\n",
              "      <td>-3.380254</td>\n",
              "    </tr>\n",
              "    <tr>\n",
              "      <th>14</th>\n",
              "      <td>British Airways*</td>\n",
              "      <td>-7.966367</td>\n",
              "      <td>-2.155726</td>\n",
              "    </tr>\n",
              "    <tr>\n",
              "      <th>37</th>\n",
              "      <td>Qantas*</td>\n",
              "      <td>-7.115188</td>\n",
              "      <td>-1.983671</td>\n",
              "    </tr>\n",
              "    <tr>\n",
              "      <th>4</th>\n",
              "      <td>Air Canada</td>\n",
              "      <td>-6.712288</td>\n",
              "      <td>-2.872774</td>\n",
              "    </tr>\n",
              "    <tr>\n",
              "      <th>33</th>\n",
              "      <td>Lufthansa*</td>\n",
              "      <td>-6.344850</td>\n",
              "      <td>-3.479710</td>\n",
              "    </tr>\n",
              "    <tr>\n",
              "      <th>10</th>\n",
              "      <td>All Nippon Airways</td>\n",
              "      <td>-5.592348</td>\n",
              "      <td>-1.336951</td>\n",
              "    </tr>\n",
              "    <tr>\n",
              "      <th>54</th>\n",
              "      <td>Virgin Atlantic</td>\n",
              "      <td>-5.151853</td>\n",
              "      <td>-2.557404</td>\n",
              "    </tr>\n",
              "  </tbody>\n",
              "</table>\n",
              "</div>"
            ],
            "text/plain": [
              "               airline  safety_85_99  safety_00_14\n",
              "43  Southwest Airlines     -9.301083     -1.378675\n",
              "15     Cathay Pacific*     -8.616783     -3.380254\n",
              "14    British Airways*     -7.966367     -2.155726\n",
              "37             Qantas*     -7.115188     -1.983671\n",
              "4           Air Canada     -6.712288     -2.872774\n",
              "33          Lufthansa*     -6.344850     -3.479710\n",
              "10  All Nippon Airways     -5.592348     -1.336951\n",
              "54     Virgin Atlantic     -5.151853     -2.557404"
            ]
          },
          "metadata": {
            "tags": []
          },
          "execution_count": 69
        }
      ]
    },
    {
      "metadata": {
        "id": "jGvqfZ9WhI5h",
        "colab_type": "code",
        "colab": {
          "base_uri": "https://localhost:8080/",
          "height": 492
        },
        "outputId": "710893b2-ec64-41be-fd6d-a98a9c6877b4"
      },
      "cell_type": "code",
      "source": [
        "g=sns.relplot(x='safety_85_99', y='safety_00_14', hue='airline', legend=False, data=safety_index)\n",
        "g.fig.set_size_inches(8,6);\n",
        "\n",
        "plt.text(-9,0, s='Negative worst Safety Index from 1985-1999 versus 2000-2014',\n",
        "        fontweight='bold', fontsize=16)\n",
        "plt.text(-9,-0.3, s='Normalized all accident and fatalities data by all top 56 major airline seats',\n",
        "        fontweight='bold', fontsize=11, color='red')\n",
        "plt.annotate(xy=(-9.3,-1.3),s='Southwest Airlines');\n",
        "plt.annotate(xy=(-8.6,-3.3), s='Cathay Pacific');\n",
        "plt.annotate(xy=(-7.9, -2.1),s='British Airway');\n",
        "plt.annotate(xy=(-7.1,-1.9), s='Qantas')\n",
        "plt.annotate(xy=(-6.7,-2.8), s='Air Canada');\n",
        "plt.annotate(xy=(-6.3,-3.4), s='Lufthansa');\n",
        "plt.annotate(xy=(-5.6,-1.3), s='All Nippon Airways');\n",
        "plt.annotate(xy=(-5.1,-2.5), s='Virgin Atlantic');\n",
        "            "
      ],
      "execution_count": 71,
      "outputs": [
        {
          "output_type": "display_data",
          "data": {
            "image/png": "[encoded data removed]",
            "text/plain": [
              "<matplotlib.figure.Figure at 0x7faa3501e940>"
            ]
          },
          "metadata": {
            "tags": []
          }
        }
      ]
    },
    {
      "metadata": {
        "id": "IqNOFGCjReK0",
        "colab_type": "code",
        "colab": {
          "base_uri": "https://localhost:8080/",
          "height": 195
        },
        "outputId": "387c5d03-3f90-458e-af49-7c65c8b17940"
      },
      "cell_type": "code",
      "source": [
        "'''\n",
        "Assign safety score to df main table\n",
        "'''\n",
        "safety_85_99 = df1.loc[:,['airline','safety_score']]\n",
        "safety_00_14 = df2.loc[:, ['airline','safety_score']]\n",
        "safety_85_99.head()"
      ],
      "execution_count": 35,
      "outputs": [
        {
          "output_type": "execute_result",
          "data": {
            "text/html": [
              "<div>\n",
              "<style scoped>\n",
              "    .dataframe tbody tr th:only-of-type {\n",
              "        vertical-align: middle;\n",
              "    }\n",
              "\n",
              "    .dataframe tbody tr th {\n",
              "        vertical-align: top;\n",
              "    }\n",
              "\n",
              "    .dataframe thead th {\n",
              "        text-align: right;\n",
              "    }\n",
              "</style>\n",
              "<table border=\"1\" class=\"dataframe\">\n",
              "  <thead>\n",
              "    <tr style=\"text-align: right;\">\n",
              "      <th></th>\n",
              "      <th>airline</th>\n",
              "      <th>safety_score</th>\n",
              "    </tr>\n",
              "  </thead>\n",
              "  <tbody>\n",
              "    <tr>\n",
              "      <th>0</th>\n",
              "      <td>Aer Lingus</td>\n",
              "      <td>-2.784140</td>\n",
              "    </tr>\n",
              "    <tr>\n",
              "      <th>1</th>\n",
              "      <td>Aeroflot*</td>\n",
              "      <td>24.308672</td>\n",
              "    </tr>\n",
              "    <tr>\n",
              "      <th>2</th>\n",
              "      <td>Aerolineas Argentinas</td>\n",
              "      <td>-2.497081</td>\n",
              "    </tr>\n",
              "    <tr>\n",
              "      <th>3</th>\n",
              "      <td>Aeromexico*</td>\n",
              "      <td>-2.073408</td>\n",
              "    </tr>\n",
              "    <tr>\n",
              "      <th>4</th>\n",
              "      <td>Air Canada</td>\n",
              "      <td>-6.712288</td>\n",
              "    </tr>\n",
              "  </tbody>\n",
              "</table>\n",
              "</div>"
            ],
            "text/plain": [
              "                 airline  safety_score\n",
              "0             Aer Lingus     -2.784140\n",
              "1              Aeroflot*     24.308672\n",
              "2  Aerolineas Argentinas     -2.497081\n",
              "3            Aeromexico*     -2.073408\n",
              "4             Air Canada     -6.712288"
            ]
          },
          "metadata": {
            "tags": []
          },
          "execution_count": 35
        }
      ]
    },
    {
      "metadata": {
        "id": "AS82UX9n7vse",
        "colab_type": "code",
        "colab": {
          "base_uri": "https://localhost:8080/",
          "height": 195
        },
        "outputId": "77de561a-1d00-4a29-ae6d-f09919b2bd3c"
      },
      "cell_type": "code",
      "source": [
        "safety_85_99 = safety_85_99.sort_values('safety_score').head()\n",
        "safety_85_99"
      ],
      "execution_count": 36,
      "outputs": [
        {
          "output_type": "execute_result",
          "data": {
            "text/html": [
              "<div>\n",
              "<style scoped>\n",
              "    .dataframe tbody tr th:only-of-type {\n",
              "        vertical-align: middle;\n",
              "    }\n",
              "\n",
              "    .dataframe tbody tr th {\n",
              "        vertical-align: top;\n",
              "    }\n",
              "\n",
              "    .dataframe thead th {\n",
              "        text-align: right;\n",
              "    }\n",
              "</style>\n",
              "<table border=\"1\" class=\"dataframe\">\n",
              "  <thead>\n",
              "    <tr style=\"text-align: right;\">\n",
              "      <th></th>\n",
              "      <th>airline</th>\n",
              "      <th>safety_score</th>\n",
              "    </tr>\n",
              "  </thead>\n",
              "  <tbody>\n",
              "    <tr>\n",
              "      <th>43</th>\n",
              "      <td>Southwest Airlines</td>\n",
              "      <td>-9.301083</td>\n",
              "    </tr>\n",
              "    <tr>\n",
              "      <th>15</th>\n",
              "      <td>Cathay Pacific*</td>\n",
              "      <td>-8.616783</td>\n",
              "    </tr>\n",
              "    <tr>\n",
              "      <th>14</th>\n",
              "      <td>British Airways*</td>\n",
              "      <td>-7.966367</td>\n",
              "    </tr>\n",
              "    <tr>\n",
              "      <th>37</th>\n",
              "      <td>Qantas*</td>\n",
              "      <td>-7.115188</td>\n",
              "    </tr>\n",
              "    <tr>\n",
              "      <th>4</th>\n",
              "      <td>Air Canada</td>\n",
              "      <td>-6.712288</td>\n",
              "    </tr>\n",
              "  </tbody>\n",
              "</table>\n",
              "</div>"
            ],
            "text/plain": [
              "               airline  safety_score\n",
              "43  Southwest Airlines     -9.301083\n",
              "15     Cathay Pacific*     -8.616783\n",
              "14    British Airways*     -7.966367\n",
              "37             Qantas*     -7.115188\n",
              "4           Air Canada     -6.712288"
            ]
          },
          "metadata": {
            "tags": []
          },
          "execution_count": 36
        }
      ]
    },
    {
      "metadata": {
        "id": "83MzdbK2YxH2",
        "colab_type": "code",
        "colab": {
          "base_uri": "https://localhost:8080/",
          "height": 195
        },
        "outputId": "88820e16-5b54-44aa-f821-af7a98644ce6"
      },
      "cell_type": "code",
      "source": [
        "safety_85_99.reset_index()"
      ],
      "execution_count": 37,
      "outputs": [
        {
          "output_type": "execute_result",
          "data": {
            "text/html": [
              "<div>\n",
              "<style scoped>\n",
              "    .dataframe tbody tr th:only-of-type {\n",
              "        vertical-align: middle;\n",
              "    }\n",
              "\n",
              "    .dataframe tbody tr th {\n",
              "        vertical-align: top;\n",
              "    }\n",
              "\n",
              "    .dataframe thead th {\n",
              "        text-align: right;\n",
              "    }\n",
              "</style>\n",
              "<table border=\"1\" class=\"dataframe\">\n",
              "  <thead>\n",
              "    <tr style=\"text-align: right;\">\n",
              "      <th></th>\n",
              "      <th>index</th>\n",
              "      <th>airline</th>\n",
              "      <th>safety_score</th>\n",
              "    </tr>\n",
              "  </thead>\n",
              "  <tbody>\n",
              "    <tr>\n",
              "      <th>0</th>\n",
              "      <td>43</td>\n",
              "      <td>Southwest Airlines</td>\n",
              "      <td>-9.301083</td>\n",
              "    </tr>\n",
              "    <tr>\n",
              "      <th>1</th>\n",
              "      <td>15</td>\n",
              "      <td>Cathay Pacific*</td>\n",
              "      <td>-8.616783</td>\n",
              "    </tr>\n",
              "    <tr>\n",
              "      <th>2</th>\n",
              "      <td>14</td>\n",
              "      <td>British Airways*</td>\n",
              "      <td>-7.966367</td>\n",
              "    </tr>\n",
              "    <tr>\n",
              "      <th>3</th>\n",
              "      <td>37</td>\n",
              "      <td>Qantas*</td>\n",
              "      <td>-7.115188</td>\n",
              "    </tr>\n",
              "    <tr>\n",
              "      <th>4</th>\n",
              "      <td>4</td>\n",
              "      <td>Air Canada</td>\n",
              "      <td>-6.712288</td>\n",
              "    </tr>\n",
              "  </tbody>\n",
              "</table>\n",
              "</div>"
            ],
            "text/plain": [
              "   index             airline  safety_score\n",
              "0     43  Southwest Airlines     -9.301083\n",
              "1     15     Cathay Pacific*     -8.616783\n",
              "2     14    British Airways*     -7.966367\n",
              "3     37             Qantas*     -7.115188\n",
              "4      4          Air Canada     -6.712288"
            ]
          },
          "metadata": {
            "tags": []
          },
          "execution_count": 37
        }
      ]
    },
    {
      "metadata": {
        "id": "2fJA992OSRrR",
        "colab_type": "code",
        "colab": {
          "base_uri": "https://localhost:8080/",
          "height": 195
        },
        "outputId": "70054a5b-07ab-464f-d0a1-27bc66fccfbb"
      },
      "cell_type": "code",
      "source": [
        "'''\n",
        "Airlines with worst safety score 85-99\n",
        "'''\n",
        "safety_85_99 = safety_85_99.sort_values('safety_score').head()\n",
        "#safety_85_99['safety_score'] = abs(safety_85_99.safety_score)\n",
        "safety_85_99['color'] = ['Red','Green','Green','Green','Green']\n",
        "safety_85_99"
      ],
      "execution_count": 46,
      "outputs": [
        {
          "output_type": "execute_result",
          "data": {
            "text/html": [
              "<div>\n",
              "<style scoped>\n",
              "    .dataframe tbody tr th:only-of-type {\n",
              "        vertical-align: middle;\n",
              "    }\n",
              "\n",
              "    .dataframe tbody tr th {\n",
              "        vertical-align: top;\n",
              "    }\n",
              "\n",
              "    .dataframe thead th {\n",
              "        text-align: right;\n",
              "    }\n",
              "</style>\n",
              "<table border=\"1\" class=\"dataframe\">\n",
              "  <thead>\n",
              "    <tr style=\"text-align: right;\">\n",
              "      <th></th>\n",
              "      <th>index</th>\n",
              "      <th>airline</th>\n",
              "      <th>safety_score</th>\n",
              "      <th>color</th>\n",
              "    </tr>\n",
              "  </thead>\n",
              "  <tbody>\n",
              "    <tr>\n",
              "      <th>0</th>\n",
              "      <td>43</td>\n",
              "      <td>Southwest Airlines</td>\n",
              "      <td>-9.301083</td>\n",
              "      <td>Red</td>\n",
              "    </tr>\n",
              "    <tr>\n",
              "      <th>1</th>\n",
              "      <td>15</td>\n",
              "      <td>Cathay Pacific*</td>\n",
              "      <td>-8.616783</td>\n",
              "      <td>Green</td>\n",
              "    </tr>\n",
              "    <tr>\n",
              "      <th>2</th>\n",
              "      <td>14</td>\n",
              "      <td>British Airways*</td>\n",
              "      <td>-7.966367</td>\n",
              "      <td>Green</td>\n",
              "    </tr>\n",
              "    <tr>\n",
              "      <th>3</th>\n",
              "      <td>37</td>\n",
              "      <td>Qantas*</td>\n",
              "      <td>-7.115188</td>\n",
              "      <td>Green</td>\n",
              "    </tr>\n",
              "    <tr>\n",
              "      <th>4</th>\n",
              "      <td>4</td>\n",
              "      <td>Air Canada</td>\n",
              "      <td>-6.712288</td>\n",
              "      <td>Green</td>\n",
              "    </tr>\n",
              "  </tbody>\n",
              "</table>\n",
              "</div>"
            ],
            "text/plain": [
              "   index             airline  safety_score  color\n",
              "0     43  Southwest Airlines     -9.301083    Red\n",
              "1     15     Cathay Pacific*     -8.616783  Green\n",
              "2     14    British Airways*     -7.966367  Green\n",
              "3     37             Qantas*     -7.115188  Green\n",
              "4      4          Air Canada     -6.712288  Green"
            ]
          },
          "metadata": {
            "tags": []
          },
          "execution_count": 46
        }
      ]
    },
    {
      "metadata": {
        "id": "XYEtwfcDbzq7",
        "colab_type": "code",
        "colab": {
          "base_uri": "https://localhost:8080/",
          "height": 195
        },
        "outputId": "858499dc-127e-4d18-cbd2-919bb15b9d56"
      },
      "cell_type": "code",
      "source": [
        "safety_85_99"
      ],
      "execution_count": 45,
      "outputs": [
        {
          "output_type": "execute_result",
          "data": {
            "text/html": [
              "<div>\n",
              "<style scoped>\n",
              "    .dataframe tbody tr th:only-of-type {\n",
              "        vertical-align: middle;\n",
              "    }\n",
              "\n",
              "    .dataframe tbody tr th {\n",
              "        vertical-align: top;\n",
              "    }\n",
              "\n",
              "    .dataframe thead th {\n",
              "        text-align: right;\n",
              "    }\n",
              "</style>\n",
              "<table border=\"1\" class=\"dataframe\">\n",
              "  <thead>\n",
              "    <tr style=\"text-align: right;\">\n",
              "      <th></th>\n",
              "      <th>index</th>\n",
              "      <th>airline</th>\n",
              "      <th>safety_score</th>\n",
              "      <th>color</th>\n",
              "    </tr>\n",
              "  </thead>\n",
              "  <tbody>\n",
              "    <tr>\n",
              "      <th>0</th>\n",
              "      <td>43</td>\n",
              "      <td>Southwest Airlines</td>\n",
              "      <td>-9.301083</td>\n",
              "      <td>Red</td>\n",
              "    </tr>\n",
              "    <tr>\n",
              "      <th>1</th>\n",
              "      <td>15</td>\n",
              "      <td>Cathay Pacific*</td>\n",
              "      <td>-8.616783</td>\n",
              "      <td>Green</td>\n",
              "    </tr>\n",
              "    <tr>\n",
              "      <th>2</th>\n",
              "      <td>14</td>\n",
              "      <td>British Airways*</td>\n",
              "      <td>-7.966367</td>\n",
              "      <td>Green</td>\n",
              "    </tr>\n",
              "    <tr>\n",
              "      <th>3</th>\n",
              "      <td>37</td>\n",
              "      <td>Qantas*</td>\n",
              "      <td>-7.115188</td>\n",
              "      <td>Green</td>\n",
              "    </tr>\n",
              "    <tr>\n",
              "      <th>4</th>\n",
              "      <td>4</td>\n",
              "      <td>Air Canada</td>\n",
              "      <td>-6.712288</td>\n",
              "      <td>Green</td>\n",
              "    </tr>\n",
              "  </tbody>\n",
              "</table>\n",
              "</div>"
            ],
            "text/plain": [
              "   index             airline  safety_score  color\n",
              "0     43  Southwest Airlines     -9.301083    Red\n",
              "1     15     Cathay Pacific*     -8.616783  Green\n",
              "2     14    British Airways*     -7.966367  Green\n",
              "3     37             Qantas*     -7.115188  Green\n",
              "4      4          Air Canada     -6.712288  Green"
            ]
          },
          "metadata": {
            "tags": []
          },
          "execution_count": 45
        }
      ]
    },
    {
      "metadata": {
        "id": "wGF_XTCES_Lm",
        "colab_type": "code",
        "colab": {
          "base_uri": "https://localhost:8080/",
          "height": 195
        },
        "outputId": "70f3881c-6ff5-41c2-a4bf-d4eb2fae6c24"
      },
      "cell_type": "code",
      "source": [
        "'''\n",
        "Airlines with worst safety score 00-14\n",
        "'''\n",
        "safety_00_14 = safety_00_14.sort_values('safety_score').head()\n",
        "#safety_00_14['safety_score'] = abs(safety_00_14.safety_score)\n",
        "safety_00_14['color'] = ['Red','Green','Green','Green','Green']\n",
        "safety_00_14"
      ],
      "execution_count": 41,
      "outputs": [
        {
          "output_type": "execute_result",
          "data": {
            "text/html": [
              "<div>\n",
              "<style scoped>\n",
              "    .dataframe tbody tr th:only-of-type {\n",
              "        vertical-align: middle;\n",
              "    }\n",
              "\n",
              "    .dataframe tbody tr th {\n",
              "        vertical-align: top;\n",
              "    }\n",
              "\n",
              "    .dataframe thead th {\n",
              "        text-align: right;\n",
              "    }\n",
              "</style>\n",
              "<table border=\"1\" class=\"dataframe\">\n",
              "  <thead>\n",
              "    <tr style=\"text-align: right;\">\n",
              "      <th></th>\n",
              "      <th>airline</th>\n",
              "      <th>safety_score</th>\n",
              "      <th>color</th>\n",
              "    </tr>\n",
              "  </thead>\n",
              "  <tbody>\n",
              "    <tr>\n",
              "      <th>33</th>\n",
              "      <td>Lufthansa*</td>\n",
              "      <td>-3.479710</td>\n",
              "      <td>Red</td>\n",
              "    </tr>\n",
              "    <tr>\n",
              "      <th>15</th>\n",
              "      <td>Cathay Pacific*</td>\n",
              "      <td>-3.380254</td>\n",
              "      <td>Green</td>\n",
              "    </tr>\n",
              "    <tr>\n",
              "      <th>28</th>\n",
              "      <td>Japan Airlines</td>\n",
              "      <td>-3.200332</td>\n",
              "      <td>Green</td>\n",
              "    </tr>\n",
              "    <tr>\n",
              "      <th>30</th>\n",
              "      <td>KLM*</td>\n",
              "      <td>-3.186121</td>\n",
              "      <td>Green</td>\n",
              "    </tr>\n",
              "    <tr>\n",
              "      <th>31</th>\n",
              "      <td>Korean Air</td>\n",
              "      <td>-3.064801</td>\n",
              "      <td>Green</td>\n",
              "    </tr>\n",
              "  </tbody>\n",
              "</table>\n",
              "</div>"
            ],
            "text/plain": [
              "            airline  safety_score  color\n",
              "33       Lufthansa*     -3.479710    Red\n",
              "15  Cathay Pacific*     -3.380254  Green\n",
              "28   Japan Airlines     -3.200332  Green\n",
              "30             KLM*     -3.186121  Green\n",
              "31       Korean Air     -3.064801  Green"
            ]
          },
          "metadata": {
            "tags": []
          },
          "execution_count": 41
        }
      ]
    },
    {
      "metadata": {
        "id": "tNUFYIN9JQE1",
        "colab_type": "text"
      },
      "cell_type": "markdown",
      "source": [
        "### Airlines Safety is unpredictable. "
      ]
    },
    {
      "metadata": {
        "id": "DB3iKuS6IjKa",
        "colab_type": "code",
        "outputId": "6c6cbafd-0265-4038-c94c-4f09a9dd9372",
        "colab": {
          "base_uri": "https://localhost:8080/",
          "height": 343
        }
      },
      "cell_type": "code",
      "source": [
        "\n",
        "\n",
        "fig, (ax1,ax2) = plt.subplots(1,2,figsize=(16,5))\n",
        "\n",
        "ax1.bar(safety_85_99.airline, abs(safety_85_99.safety_score), color=safety_85_99.color)\n",
        "ax1.text(x=0,y=10,s='Worst Safety Index Airlines 85-99',\n",
        "        fontsize=16, fontweight='bold')\n",
        "\n",
        "ax2.bar(safety_00_14.airline, abs(safety_00_14.safety_score), color=safety_00_14.color)\n",
        "ax2.text(x=0,y=3.8,s='Worst Safety Index Airlines 00-14',\n",
        "        fontsize=16, fontweight='bold');\n",
        "\n"
      ],
      "execution_count": 42,
      "outputs": [
        {
          "output_type": "display_data",
          "data": {
            "image/png": "[encoded data removed]",
            "text/plain": [
              "<matplotlib.figure.Figure at 0x7faa336db898>"
            ]
          },
          "metadata": {
            "tags": []
          }
        }
      ]
    },
    {
      "metadata": {
        "id": "ql_2qCiO999F",
        "colab_type": "code",
        "colab": {
          "base_uri": "https://localhost:8080/",
          "height": 2738
        },
        "outputId": "7d9ceec7-0b71-4772-b094-75d07fece5b3"
      },
      "cell_type": "code",
      "source": [
        "help(plt.bar)"
      ],
      "execution_count": 224,
      "outputs": [
        {
          "output_type": "stream",
          "text": [
            "Help on function bar in module matplotlib.pyplot:\n",
            "\n",
            "bar(*args, **kwargs)\n",
            "    Make a bar plot.\n",
            "    \n",
            "    Call signatures::\n",
            "    \n",
            "       bar(x, height, *, align='center', **kwargs)\n",
            "       bar(x, height, width, *, align='center', **kwargs)\n",
            "       bar(x, height, width, bottom, *, align='center', **kwargs)\n",
            "    \n",
            "    Make a bar plot with rectangles bounded by\n",
            "    \n",
            "    .. math::\n",
            "    \n",
            "       (x - width/2, x + width/2, bottom, bottom + height)\n",
            "    \n",
            "    (left, right, bottom and top edges) by default.  *x*,\n",
            "    *height*, *width*, and *bottom* can be either scalars or\n",
            "    sequences.\n",
            "    \n",
            "    The *align* and *orientation* kwargs control the interpretation of *x*\n",
            "    and *bottom*\n",
            "    \n",
            "    The *align* keyword-only argument controls if *x* is interpreted\n",
            "    as the center or the left edge of the rectangle.\n",
            "    \n",
            "    Parameters\n",
            "    ----------\n",
            "    x : sequence of scalars\n",
            "        the x coordinates of the bars.\n",
            "    \n",
            "        *align* controls if *x* is the bar center (default) or\n",
            "        left edge.\n",
            "    \n",
            "    height : scalar or sequence of scalars\n",
            "        the height(s) of the bars\n",
            "    \n",
            "    width : scalar or array-like, optional\n",
            "        the width(s) of the bars\n",
            "        default: 0.8\n",
            "    \n",
            "    bottom : scalar or array-like, optional\n",
            "        the y coordinate(s) of the bars\n",
            "        default: None\n",
            "    \n",
            "    align : {'center', 'edge'}, optional, default: 'center'\n",
            "        If 'center', interpret the *x* argument as the coordinates\n",
            "        of the centers of the bars.  If 'edge', aligns bars by\n",
            "        their left edges\n",
            "    \n",
            "        To align the bars on the right edge pass a negative\n",
            "        *width* and ``align='edge'``\n",
            "    \n",
            "    Returns\n",
            "    -------\n",
            "    bars : matplotlib.container.BarContainer\n",
            "        Container with all of the bars + errorbars\n",
            "    \n",
            "    Other Parameters\n",
            "    ----------------\n",
            "    color : scalar or array-like, optional\n",
            "        the colors of the bar faces\n",
            "    \n",
            "    edgecolor : scalar or array-like, optional\n",
            "        the colors of the bar edges\n",
            "    \n",
            "    linewidth : scalar or array-like, optional\n",
            "        width of bar edge(s). If None, use default\n",
            "        linewidth; If 0, don't draw edges.\n",
            "        default: None\n",
            "    \n",
            "    tick_label : string or array-like, optional\n",
            "        the tick labels of the bars\n",
            "        default: None\n",
            "    \n",
            "    xerr : scalar or array-like, optional\n",
            "        if not None, will be used to generate errorbar(s) on the bar chart\n",
            "        default: None\n",
            "    \n",
            "    yerr : scalar or array-like, optional\n",
            "        if not None, will be used to generate errorbar(s) on the bar chart\n",
            "        default: None\n",
            "    \n",
            "    ecolor : scalar or array-like, optional\n",
            "        specifies the color of errorbar(s)\n",
            "        default: None\n",
            "    \n",
            "    capsize : scalar, optional\n",
            "       determines the length in points of the error bar caps\n",
            "       default: None, which will take the value from the\n",
            "       ``errorbar.capsize`` :data:`rcParam<matplotlib.rcParams>`.\n",
            "    \n",
            "    error_kw : dict, optional\n",
            "        dictionary of kwargs to be passed to errorbar method. *ecolor* and\n",
            "        *capsize* may be specified here rather than as independent kwargs.\n",
            "    \n",
            "    log : boolean, optional\n",
            "        If true, sets the axis to be log scale.\n",
            "        default: False\n",
            "    \n",
            "    orientation : {'vertical',  'horizontal'}, optional\n",
            "    \n",
            "        This is for internal use, please do not directly use this,\n",
            "        call `barh` instead.\n",
            "    \n",
            "        The orientation of the bars.\n",
            "    \n",
            "    See also\n",
            "    --------\n",
            "    barh: Plot a horizontal bar plot.\n",
            "    \n",
            "    Notes\n",
            "    -----\n",
            "    The optional arguments *color*, *edgecolor*, *linewidth*,\n",
            "    *xerr*, and *yerr* can be either scalars or sequences of\n",
            "    length equal to the number of bars.  This enables you to use\n",
            "    bar as the basis for stacked bar charts, or candlestick plots.\n",
            "    Detail: *xerr* and *yerr* are passed directly to\n",
            "    :meth:`errorbar`, so they can also have shape 2xN for\n",
            "    independent specification of lower and upper errors.\n",
            "    \n",
            "    Other optional kwargs:\n",
            "    \n",
            "      agg_filter: a filter function, which takes a (m, n, 3) float array and a dpi value, and returns a (m, n, 3) array \n",
            "      alpha: float or None \n",
            "      animated: bool \n",
            "      antialiased or aa: [True | False]  or None for default \n",
            "      capstyle: ['butt' | 'round' | 'projecting'] \n",
            "      clip_box: a `~.Bbox` instance \n",
            "      clip_on: bool \n",
            "      clip_path: [(`~matplotlib.path.Path`, `~.Transform`) | `~.Patch` | None] \n",
            "      color: matplotlib color spec\n",
            "      contains: a callable function \n",
            "      edgecolor or ec: mpl color spec, None, 'none', or 'auto' \n",
            "      facecolor or fc: mpl color spec, or None for default, or 'none' for no color \n",
            "      figure: a `~.Figure` instance \n",
            "      fill: [True | False] \n",
            "      gid: an id string \n",
            "      hatch: ['/' | '\\\\' | '|' | '-' | '+' | 'x' | 'o' | 'O' | '.' | '*'] \n",
            "      joinstyle: ['miter' | 'round' | 'bevel'] \n",
            "      label: object \n",
            "      linestyle or ls: ['solid' | 'dashed', 'dashdot', 'dotted' | (offset, on-off-dash-seq) | ``'-'`` | ``'--'`` | ``'-.'`` | ``':'`` | ``'None'`` | ``' '`` | ``''``]\n",
            "      linewidth or lw: float or None for default \n",
            "      path_effects: `~.AbstractPathEffect` \n",
            "      picker: [None | bool | float | callable] \n",
            "      rasterized: bool or None \n",
            "      sketch_params: (scale: float, length: float, randomness: float) \n",
            "      snap: bool or None \n",
            "      transform: `~.Transform` \n",
            "      url: a url string \n",
            "      visible: bool \n",
            "      zorder: float \n",
            "    \n",
            "    .. note::\n",
            "        In addition to the above described arguments, this function can take a\n",
            "        **data** keyword argument. If such a **data** argument is given, the\n",
            "        following arguments are replaced by **data[<arg>]**:\n",
            "    \n",
            "        * All arguments with the following names: 'bottom', 'color', 'ecolor', 'edgecolor', 'height', 'left', 'linewidth', 'tick_label', 'width', 'x', 'xerr', 'y', 'yerr'.\n",
            "        * All positional arguments.\n",
            "\n"
          ],
          "name": "stdout"
        }
      ]
    }
  ]
}